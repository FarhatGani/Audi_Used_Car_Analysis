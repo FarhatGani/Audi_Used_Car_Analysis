{
 "cells": [
  {
   "cell_type": "markdown",
   "id": "610f3762",
   "metadata": {},
   "source": [
    "### Import required libraries\n"
   ]
  },
  {
   "cell_type": "code",
   "execution_count": 1,
   "id": "3d60ab9e",
   "metadata": {},
   "outputs": [],
   "source": [
    "import pandas as pd\n",
    "import numpy as np\n",
    "\n",
    "from sklearn.model_selection import train_test_split\n",
    "from sklearn.linear_model import LinearRegression\n",
    "from sklearn.metrics import mean_squared_error, mean_absolute_percentage_error, mean_absolute_error, r2_score\n",
    "\n",
    "import warnings\n",
    "warnings.filterwarnings('ignore')"
   ]
  },
  {
   "cell_type": "markdown",
   "id": "b91e5eaa",
   "metadata": {},
   "source": [
    "### Load data\n",
    "https://www.kaggle.com/datasets/aishwaryamuthukumar/cars-dataset-audi-bmw-ford-hyundai-skoda-vw"
   ]
  },
  {
   "cell_type": "code",
   "execution_count": 2,
   "id": "85a3a756",
   "metadata": {},
   "outputs": [
    {
     "data": {
      "text/html": [
       "<div>\n",
       "<style scoped>\n",
       "    .dataframe tbody tr th:only-of-type {\n",
       "        vertical-align: middle;\n",
       "    }\n",
       "\n",
       "    .dataframe tbody tr th {\n",
       "        vertical-align: top;\n",
       "    }\n",
       "\n",
       "    .dataframe thead th {\n",
       "        text-align: right;\n",
       "    }\n",
       "</style>\n",
       "<table border=\"1\" class=\"dataframe\">\n",
       "  <thead>\n",
       "    <tr style=\"text-align: right;\">\n",
       "      <th></th>\n",
       "      <th>model</th>\n",
       "      <th>year</th>\n",
       "      <th>price</th>\n",
       "      <th>transmission</th>\n",
       "      <th>mileage</th>\n",
       "      <th>fuelType</th>\n",
       "      <th>mpg</th>\n",
       "      <th>engineSize</th>\n",
       "    </tr>\n",
       "  </thead>\n",
       "  <tbody>\n",
       "    <tr>\n",
       "      <th>0</th>\n",
       "      <td>A1</td>\n",
       "      <td>2017</td>\n",
       "      <td>12500</td>\n",
       "      <td>Manual</td>\n",
       "      <td>15735</td>\n",
       "      <td>Petrol</td>\n",
       "      <td>55.4</td>\n",
       "      <td>1.4</td>\n",
       "    </tr>\n",
       "    <tr>\n",
       "      <th>1</th>\n",
       "      <td>A6</td>\n",
       "      <td>2016</td>\n",
       "      <td>16500</td>\n",
       "      <td>Automatic</td>\n",
       "      <td>36203</td>\n",
       "      <td>Diesel</td>\n",
       "      <td>64.2</td>\n",
       "      <td>2.0</td>\n",
       "    </tr>\n",
       "    <tr>\n",
       "      <th>2</th>\n",
       "      <td>A1</td>\n",
       "      <td>2016</td>\n",
       "      <td>11000</td>\n",
       "      <td>Manual</td>\n",
       "      <td>29946</td>\n",
       "      <td>Petrol</td>\n",
       "      <td>55.4</td>\n",
       "      <td>1.4</td>\n",
       "    </tr>\n",
       "    <tr>\n",
       "      <th>3</th>\n",
       "      <td>A4</td>\n",
       "      <td>2017</td>\n",
       "      <td>16800</td>\n",
       "      <td>Automatic</td>\n",
       "      <td>25952</td>\n",
       "      <td>Diesel</td>\n",
       "      <td>67.3</td>\n",
       "      <td>2.0</td>\n",
       "    </tr>\n",
       "    <tr>\n",
       "      <th>4</th>\n",
       "      <td>A3</td>\n",
       "      <td>2019</td>\n",
       "      <td>17300</td>\n",
       "      <td>Manual</td>\n",
       "      <td>1998</td>\n",
       "      <td>Petrol</td>\n",
       "      <td>49.6</td>\n",
       "      <td>1.0</td>\n",
       "    </tr>\n",
       "    <tr>\n",
       "      <th>5</th>\n",
       "      <td>A1</td>\n",
       "      <td>2016</td>\n",
       "      <td>13900</td>\n",
       "      <td>Automatic</td>\n",
       "      <td>32260</td>\n",
       "      <td>Petrol</td>\n",
       "      <td>58.9</td>\n",
       "      <td>1.4</td>\n",
       "    </tr>\n",
       "    <tr>\n",
       "      <th>6</th>\n",
       "      <td>A6</td>\n",
       "      <td>2016</td>\n",
       "      <td>13250</td>\n",
       "      <td>Automatic</td>\n",
       "      <td>76788</td>\n",
       "      <td>Diesel</td>\n",
       "      <td>61.4</td>\n",
       "      <td>2.0</td>\n",
       "    </tr>\n",
       "    <tr>\n",
       "      <th>7</th>\n",
       "      <td>A4</td>\n",
       "      <td>2016</td>\n",
       "      <td>11750</td>\n",
       "      <td>Manual</td>\n",
       "      <td>75185</td>\n",
       "      <td>Diesel</td>\n",
       "      <td>70.6</td>\n",
       "      <td>2.0</td>\n",
       "    </tr>\n",
       "    <tr>\n",
       "      <th>8</th>\n",
       "      <td>A3</td>\n",
       "      <td>2015</td>\n",
       "      <td>10200</td>\n",
       "      <td>Manual</td>\n",
       "      <td>46112</td>\n",
       "      <td>Petrol</td>\n",
       "      <td>60.1</td>\n",
       "      <td>1.4</td>\n",
       "    </tr>\n",
       "    <tr>\n",
       "      <th>9</th>\n",
       "      <td>A1</td>\n",
       "      <td>2016</td>\n",
       "      <td>12000</td>\n",
       "      <td>Manual</td>\n",
       "      <td>22451</td>\n",
       "      <td>Petrol</td>\n",
       "      <td>55.4</td>\n",
       "      <td>1.4</td>\n",
       "    </tr>\n",
       "  </tbody>\n",
       "</table>\n",
       "</div>"
      ],
      "text/plain": [
       "  model  year  price transmission  mileage fuelType   mpg  engineSize\n",
       "0    A1  2017  12500       Manual    15735   Petrol  55.4         1.4\n",
       "1    A6  2016  16500    Automatic    36203   Diesel  64.2         2.0\n",
       "2    A1  2016  11000       Manual    29946   Petrol  55.4         1.4\n",
       "3    A4  2017  16800    Automatic    25952   Diesel  67.3         2.0\n",
       "4    A3  2019  17300       Manual     1998   Petrol  49.6         1.0\n",
       "5    A1  2016  13900    Automatic    32260   Petrol  58.9         1.4\n",
       "6    A6  2016  13250    Automatic    76788   Diesel  61.4         2.0\n",
       "7    A4  2016  11750       Manual    75185   Diesel  70.6         2.0\n",
       "8    A3  2015  10200       Manual    46112   Petrol  60.1         1.4\n",
       "9    A1  2016  12000       Manual    22451   Petrol  55.4         1.4"
      ]
     },
     "metadata": {},
     "output_type": "display_data"
    },
    {
     "name": "stdout",
     "output_type": "stream",
     "text": [
      "(10668, 8)\n"
     ]
    }
   ],
   "source": [
    "df = pd.read_csv(\"audi.csv\")\n",
    "\n",
    "display(df.head(10))\n",
    "print(df.shape)"
   ]
  },
  {
   "cell_type": "code",
   "execution_count": 3,
   "id": "e4103f00",
   "metadata": {},
   "outputs": [
    {
     "name": "stdout",
     "output_type": "stream",
     "text": [
      "<class 'pandas.core.frame.DataFrame'>\n",
      "RangeIndex: 10668 entries, 0 to 10667\n",
      "Data columns (total 8 columns):\n",
      " #   Column        Non-Null Count  Dtype  \n",
      "---  ------        --------------  -----  \n",
      " 0   model         10668 non-null  object \n",
      " 1   year          10668 non-null  int64  \n",
      " 2   price         10668 non-null  int64  \n",
      " 3   transmission  10668 non-null  object \n",
      " 4   mileage       10668 non-null  int64  \n",
      " 5   fuelType      10668 non-null  object \n",
      " 6   mpg           10668 non-null  float64\n",
      " 7   engineSize    10668 non-null  float64\n",
      "dtypes: float64(2), int64(3), object(3)\n",
      "memory usage: 666.9+ KB\n"
     ]
    }
   ],
   "source": [
    "df.info()"
   ]
  },
  {
   "cell_type": "code",
   "execution_count": 4,
   "id": "890d0246",
   "metadata": {},
   "outputs": [
    {
     "data": {
      "text/plain": [
       "Index(['model', 'year', 'price', 'transmission', 'mileage', 'fuelType', 'mpg',\n",
       "       'engineSize'],\n",
       "      dtype='object')"
      ]
     },
     "execution_count": 4,
     "metadata": {},
     "output_type": "execute_result"
    }
   ],
   "source": [
    "df.columns"
   ]
  },
  {
   "cell_type": "code",
   "execution_count": 5,
   "id": "71527243",
   "metadata": {},
   "outputs": [],
   "source": [
    "# df[\"year\"].value_counts()\n",
    "# df[\"mileage\"].value_counts()\n",
    "# df[\"mpg\"].value_counts()\n",
    "# df[\"engineSize\"].value_counts()"
   ]
  },
  {
   "cell_type": "markdown",
   "id": "0fb18ddd",
   "metadata": {},
   "source": [
    "### Separating Feature and Target variable \n"
   ]
  },
  {
   "cell_type": "code",
   "execution_count": 6,
   "id": "eac43eee",
   "metadata": {},
   "outputs": [
    {
     "name": "stdout",
     "output_type": "stream",
     "text": [
      "Shape of x = (10668, 4)\n",
      "Shape of y = (10668, 1)\n"
     ]
    }
   ],
   "source": [
    "num_features = ['year', 'mileage', 'mpg', 'engineSize']\n",
    "target = ['price']\n",
    "\n",
    "x = df[num_features]\n",
    "y = df[target]\n",
    "\n",
    "print('Shape of x =', x.shape)\n",
    "print('Shape of y =', y.shape)"
   ]
  },
  {
   "cell_type": "markdown",
   "id": "f98dca3d",
   "metadata": {},
   "source": [
    "### Train dataset and Test dataset separation"
   ]
  },
  {
   "cell_type": "code",
   "execution_count": 7,
   "id": "e97af485",
   "metadata": {},
   "outputs": [
    {
     "name": "stdout",
     "output_type": "stream",
     "text": [
      "(8534, 4) (2134, 4) (8534, 1) (2134, 1)\n"
     ]
    }
   ],
   "source": [
    "x_train, x_test, y_train, y_test = train_test_split(x, y, train_size=0.8, random_state=11)\n",
    "\n",
    "print(x_train.shape, x_test.shape, y_train.shape, y_test.shape)"
   ]
  },
  {
   "cell_type": "markdown",
   "id": "d0105c47",
   "metadata": {},
   "source": [
    "### Training: Logistic Regression"
   ]
  },
  {
   "cell_type": "code",
   "execution_count": 8,
   "id": "2a530fad",
   "metadata": {},
   "outputs": [],
   "source": [
    "model = LinearRegression()\n",
    "model = model.fit(x_train, y_train)"
   ]
  },
  {
   "cell_type": "markdown",
   "id": "1df8b6ae",
   "metadata": {},
   "source": [
    "### Coefficients and C"
   ]
  },
  {
   "cell_type": "code",
   "execution_count": 9,
   "id": "96e09386",
   "metadata": {},
   "outputs": [
    {
     "name": "stdout",
     "output_type": "stream",
     "text": [
      "[[ 2.13712958e+03 -9.37102466e-02 -1.69539639e+02  1.09600599e+04]]\n",
      "[-4298133.06101474]\n"
     ]
    }
   ],
   "source": [
    "coefficients = model.coef_\n",
    "c = model.intercept_\n",
    "print(coefficients)\n",
    "print(c)"
   ]
  },
  {
   "cell_type": "code",
   "execution_count": 10,
   "id": "8efa898b",
   "metadata": {},
   "outputs": [
    {
     "data": {
      "text/plain": [
       "Index(['year', 'mileage', 'mpg', 'engineSize'], dtype='object')"
      ]
     },
     "execution_count": 10,
     "metadata": {},
     "output_type": "execute_result"
    }
   ],
   "source": [
    "x.columns"
   ]
  },
  {
   "cell_type": "code",
   "execution_count": 11,
   "id": "316ae2db",
   "metadata": {},
   "outputs": [
    {
     "data": {
      "text/html": [
       "<div>\n",
       "<style scoped>\n",
       "    .dataframe tbody tr th:only-of-type {\n",
       "        vertical-align: middle;\n",
       "    }\n",
       "\n",
       "    .dataframe tbody tr th {\n",
       "        vertical-align: top;\n",
       "    }\n",
       "\n",
       "    .dataframe thead th {\n",
       "        text-align: right;\n",
       "    }\n",
       "</style>\n",
       "<table border=\"1\" class=\"dataframe\">\n",
       "  <thead>\n",
       "    <tr style=\"text-align: right;\">\n",
       "      <th></th>\n",
       "      <th>num_features</th>\n",
       "      <th>coefficients</th>\n",
       "    </tr>\n",
       "  </thead>\n",
       "  <tbody>\n",
       "    <tr>\n",
       "      <th>0</th>\n",
       "      <td>year</td>\n",
       "      <td>2137.129579</td>\n",
       "    </tr>\n",
       "    <tr>\n",
       "      <th>1</th>\n",
       "      <td>mileage</td>\n",
       "      <td>-0.093710</td>\n",
       "    </tr>\n",
       "    <tr>\n",
       "      <th>2</th>\n",
       "      <td>mpg</td>\n",
       "      <td>-169.539639</td>\n",
       "    </tr>\n",
       "    <tr>\n",
       "      <th>3</th>\n",
       "      <td>engineSize</td>\n",
       "      <td>10960.059907</td>\n",
       "    </tr>\n",
       "  </tbody>\n",
       "</table>\n",
       "</div>"
      ],
      "text/plain": [
       "  num_features  coefficients\n",
       "0         year   2137.129579\n",
       "1      mileage     -0.093710\n",
       "2          mpg   -169.539639\n",
       "3   engineSize  10960.059907"
      ]
     },
     "metadata": {},
     "output_type": "display_data"
    }
   ],
   "source": [
    "coef_df = pd.DataFrame({'num_features' : x.columns, 'coefficients' : np.squeeze(coefficients)})\n",
    "\n",
    "display(coef_df)"
   ]
  },
  {
   "cell_type": "markdown",
   "id": "f0b7e7cd",
   "metadata": {},
   "source": [
    "- A positive sign indicates that as the feature variable increases, the target variable also increases.\n",
    "- A negative sign indicates that as the feature variable increases, the target variable decreases."
   ]
  },
  {
   "cell_type": "markdown",
   "id": "96896035",
   "metadata": {},
   "source": [
    "### Price Prediction"
   ]
  },
  {
   "cell_type": "code",
   "execution_count": 12,
   "id": "0393da69",
   "metadata": {
    "scrolled": true
   },
   "outputs": [
    {
     "name": "stdout",
     "output_type": "stream",
     "text": [
      "[[28558.85252379]\n",
      " [32067.12374236]\n",
      " [19918.95489603]\n",
      " ...\n",
      " [15401.51880938]\n",
      " [19397.20198932]\n",
      " [25478.96301734]]\n"
     ]
    }
   ],
   "source": [
    "y_pred = model.predict(x_test)\n",
    "print(y_pred)"
   ]
  },
  {
   "cell_type": "code",
   "execution_count": 13,
   "id": "60c9c223",
   "metadata": {},
   "outputs": [
    {
     "name": "stdout",
     "output_type": "stream",
     "text": [
      "      price\n",
      "9618  33990\n",
      "5742  32790\n",
      "811   18695\n",
      "3412  12802\n",
      "7686  15990\n",
      "...     ...\n",
      "3326  57000\n",
      "8370  20000\n",
      "5997  13745\n",
      "3912  20990\n",
      "7183  17400\n",
      "\n",
      "[2134 rows x 1 columns]\n"
     ]
    }
   ],
   "source": [
    "print(y_test)"
   ]
  },
  {
   "cell_type": "markdown",
   "id": "2dba8212",
   "metadata": {},
   "source": [
    "### Error Prediction using MAE, MAPE, MSE, RMSE, & R2 as KPIs"
   ]
  },
  {
   "cell_type": "code",
   "execution_count": 14,
   "id": "90e14a64",
   "metadata": {},
   "outputs": [
    {
     "name": "stdout",
     "output_type": "stream",
     "text": [
      "MAE = 3409.13\n",
      "MAPE = 0.18\n",
      "MSE = 29334262.3\n",
      "RMSE = 5416.11\n",
      "r2 = 0.75\n"
     ]
    }
   ],
   "source": [
    "# mean absolute error: lower is better\n",
    "MAE = np.round(mean_absolute_error(y_test, y_pred),2)\n",
    "print('MAE =', MAE)\n",
    "\n",
    "# MAPE: Mean Absolute Percentage Error: lower is better\n",
    "MAPE = np.round(mean_absolute_percentage_error(y_test, y_pred), 2)\n",
    "print('MAPE =', MAPE)\n",
    "\n",
    "# mean squared error: lower is better\n",
    "MSE = np.round(mean_squared_error(y_test, y_pred, squared = True),2)\n",
    "print('MSE =', MSE)\n",
    "\n",
    "# root mean squared error: lower is better\n",
    "RMSE = np.round(mean_squared_error(y_test, y_pred, squared = False),2)\n",
    "print('RMSE =', RMSE)\n",
    "\n",
    "# coefficient of determination == r_squared: greater is better. Max =1, min=-\n",
    "r2 = np.round(r2_score(y_test, y_pred), 2)\n",
    "print('r2 =', r2)"
   ]
  }
 ],
 "metadata": {
  "kernelspec": {
   "display_name": "Python 3 (ipykernel)",
   "language": "python",
   "name": "python3"
  },
  "language_info": {
   "codemirror_mode": {
    "name": "ipython",
    "version": 3
   },
   "file_extension": ".py",
   "mimetype": "text/x-python",
   "name": "python",
   "nbconvert_exporter": "python",
   "pygments_lexer": "ipython3",
   "version": "3.9.7"
  }
 },
 "nbformat": 4,
 "nbformat_minor": 5
}
